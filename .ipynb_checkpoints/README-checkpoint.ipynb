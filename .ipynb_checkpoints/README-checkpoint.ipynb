{
 "cells": [
  {
   "cell_type": "markdown",
   "metadata": {},
   "source": [
    "# 10 Best Inflation-Proof Stocks"
   ]
  },
  {
   "cell_type": "markdown",
   "metadata": {},
   "source": [
    "![alt text](data/brr.png \"Current Inflation\")"
   ]
  },
  {
   "cell_type": "markdown",
   "metadata": {},
   "source": [
    "## Summary"
   ]
  },
  {
   "cell_type": "markdown",
   "metadata": {},
   "source": [
    "In periods of hyperinflation is essential to position your portfolio in assets that are \"inflation-proof\"\n",
    "\n",
    "According to the latest figures issued by the US Department of Labor, inflation in the United States reached a three-decade high last month, with prices of consumer goods and services rising by 7% year over year."
   ]
  },
  {
   "cell_type": "markdown",
   "metadata": {},
   "source": [
    "![Inflation since 2017](data/united-states-inflation-cpi.jpg \"Inflation since 2017\")\n"
   ]
  },
  {
   "cell_type": "markdown",
   "metadata": {},
   "source": [
    "Energy production bottlenecks, supply chain disruptions, and a post-pandemic boost in demand have all contributed to the rise in food, gas, and housing prices. Inflation worries are also weakening pay and job increases that had aided the economy's faster-than-expected recovery from the coronavirus crisis."
   ]
  },
  {
   "cell_type": "markdown",
   "metadata": {},
   "source": [
    "## Business Problem"
   ]
  },
  {
   "cell_type": "markdown",
   "metadata": {},
   "source": [
    "Despite the Federal Reserve's repeated denials of requests to raise interest rates, referring to inflation fears as \"transitory,\" the political repercussions of rising prices may eventually force the government to act. The stock market has responded gingerly to the news, with the benchmark S&amp;P 500 index not dropping immediately. Morgan Stanley, on the other hand, anticipates that if nothing changes, the index might fall by as much as 20% in the following months. In the current environment, investors are rushing to protect their growth-oriented portfolios against danger.\n",
    "\n",
    "\n"
   ]
  },
  {
   "cell_type": "markdown",
   "metadata": {},
   "source": [
    "Traditional wisdom holds that dividend-paying, stable firms in the value category, together with gold, are the best inflation hedges. However, the economy has altered so dramatically in recent years that the meaning of \"value stock\" has shifted as well. Before purchasing for a crisis, investors should think about pricing power and worldwide market reach.Viewed in this context, some of the top inflation-proof stocks to buy now include Apple Inc. (NASDAQ:AAPL), Adobe Inc. (NASDAQ:ADBE), and MercadoLibre, Inc. (NASDAQ:MELI), among others modeled within this project"
   ]
  },
  {
   "cell_type": "markdown",
   "metadata": {},
   "source": [
    "The intent of the timeseries model is to predict the risk and potential return on investment for a small sized portfolio that wishes to diversify itself within times of hyperinflation"
   ]
  },
  {
   "cell_type": "markdown",
   "metadata": {},
   "source": [
    "## Data"
   ]
  },
  {
   "cell_type": "markdown",
   "metadata": {},
   "source": [
    "The stocks analyzed and modeled using facebook's fbprophet are the following:\n",
    "\n",
    "AAPL\n",
    "\n",
    "SWK\n",
    "\n",
    "NEM\n",
    "\n",
    "EPAM\n",
    "\n",
    "APTV\n",
    "\n",
    "ADBE\n",
    "\n",
    "FRT\n",
    "\n",
    "MO\n",
    "\n",
    "TTD\n",
    "\n",
    "MELI\n"
   ]
  },
  {
   "cell_type": "markdown",
   "metadata": {},
   "source": [
    "## Results"
   ]
  },
  {
   "cell_type": "markdown",
   "metadata": {},
   "source": [
    "After traing a fbprophet model, the top performing stocks with the greatest ROI and lowest RMSE where the following:\n",
    "\n",
    "AAPL - ROI: 47.4% | RMSE: 33.6\n",
    "\n",
    "ADBE - ROI: 55% | RMSE: 70.9\n",
    "\n",
    "APTV - ROI: 43.2% | RMSE: 30.4\n",
    "\n",
    "EPAM - ROI: 46.8% | RMSE: 81.31\n",
    "\n",
    "NEM - ROI: 65.6% | RMSE: 15.5\n",
    "\n",
    "SWK - ROI: 57.7% | RMSE: 36.5"
   ]
  },
  {
   "cell_type": "markdown",
   "metadata": {},
   "source": [
    "![alt text](data/stocksplot.png \"Title\")"
   ]
  },
  {
   "cell_type": "markdown",
   "metadata": {},
   "source": []
  }
 ],
 "metadata": {
  "kernelspec": {
   "display_name": "Python 3",
   "language": "python",
   "name": "python3"
  },
  "language_info": {
   "codemirror_mode": {
    "name": "ipython",
    "version": 3
   },
   "file_extension": ".py",
   "mimetype": "text/x-python",
   "name": "python",
   "nbconvert_exporter": "python",
   "pygments_lexer": "ipython3",
   "version": "3.8.5"
  }
 },
 "nbformat": 4,
 "nbformat_minor": 4
}
